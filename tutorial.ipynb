{
 "cells": [
  {
   "cell_type": "markdown",
   "metadata": {},
   "source": [
    "# dwtls: Discrete Wavelet Transform LayerS\n",
    "This library provides downsampling (DS) layers using discrete wavelet transforms (DWTs), which we call DWT layers.\n",
    "Conventional DS layers lack either antialiasing filters and the perfect reconstruction property, so downsampled features are aliased and entire information of input features are not preserved.\n",
    "By contrast, DWT layers have antialiasing filters and the perfect reconstruction property, which enables us to overcome the two problems.\n",
    "\n",
    "In this library, the DWT layer and its extensions are implemented as below:\n",
    "- DWT layers with fixed wavelets (Haar, CDF22, CDF26, CDF15, and DD4 wavelets)\n",
    "- Trainable DWT (TDWT) layers\n",
    "- Weight-normalized trainable DWT (WN-TDWT) layers"
   ]
  },
  {
   "cell_type": "markdown",
   "metadata": {},
   "source": [
    "## DWT layers with fixed wavelets\n",
    "The DWT layer (including its extensions) is implemeted as a subclass of `torch.nn.Module` provided by PyTorch, so we can easily use it in PyTorch-based scripts. Also, this layer is differentiable."
   ]
  },
  {
   "cell_type": "code",
   "execution_count": 1,
   "metadata": {},
   "outputs": [],
   "source": [
    "import torch\n",
    "import dwtls"
   ]
  },
  {
   "cell_type": "code",
   "execution_count": 2,
   "metadata": {},
   "outputs": [],
   "source": [
    "dwt_layer = dwtls.DWT(wavelet=\"haar\")"
   ]
  },
  {
   "cell_type": "code",
   "execution_count": 3,
   "metadata": {},
   "outputs": [
    {
     "name": "stdout",
     "output_type": "stream",
     "text": [
      "Input: tensor([[[-0.5404,  1.9763,  0.4884,  0.6151, -0.6700, -1.6151, -0.7866,\n",
      "          -0.1171,  0.0226,  1.9563,  0.9426, -0.0708,  0.2483,  0.3700,\n",
      "          -0.0984, -0.6903,  0.0558, -0.2917,  3.4382, -0.9156]]])\n",
      "Output: tensor([[[ 1.7795,  0.0896, -0.6683,  0.4734,  1.3674, -0.7165,  0.0860,\n",
      "          -0.4185, -0.2457, -3.0786],\n",
      "         [ 1.0153,  0.7803, -1.6158, -0.6390,  1.3993,  0.6165,  0.4372,\n",
      "          -0.5577, -0.1668,  1.7837]]])\n"
     ]
    }
   ],
   "source": [
    "feature = torch.normal(0.0, 1.0, size=(1,1,20)).float()\n",
    "output_feature = dwt_layer(feature)\n",
    "print('Input:', feature)\n",
    "print(\"Output:\", output_feature)"
   ]
  },
  {
   "cell_type": "markdown",
   "metadata": {},
   "source": [
    "## TDWT layer\n",
    "The TDWT layer has trainable wavelets (precisely, predict and update filters of lifting scheme).\n",
    "\n",
    "For example, we can define the TDWT layer having a pair of the prediction and update filters initialized with Haar wavelet."
   ]
  },
  {
   "cell_type": "code",
   "execution_count": 4,
   "metadata": {},
   "outputs": [],
   "source": [
    "tdwt_layer = dwtls.MultiStageLWT([\n",
    "    dict(predict_ksize=3, update_ksize=3, \n",
    "         requires_grad={\"predict\": True, \"update\": True}, \n",
    "         initial_values={\"predict\": [0,1,0], \"update\": [0,0.5,0]})\n",
    "])"
   ]
  },
  {
   "cell_type": "markdown",
   "metadata": {},
   "source": [
    "The `tdwt_layer._predict_weight` and `tdwt_layer._update_weight` of this layer are trainable jointly with other DNN components."
   ]
  },
  {
   "cell_type": "markdown",
   "metadata": {},
   "source": [
    "We show three structures of the trainable DWT layers used in our music source separation paper [1].  \n",
    "\n",
    "[1] Tomohiko Nakamura, Shihori Kozuka, and Hiroshi Saruwatari, “Time-Domain Audio Source Separation with Neural Networks Based on Multiresolution Analysis,” IEEE/ACM Transactions on Audio, Speech, and Language Processing, vol. 29, pp. 1687–1701, Apr. 2021. [pdf](https://doi.org/10.1109/TASLP.2021.3072496), [demo](https://tomohikonakamura.github.io/Tomohiko-Nakamura/demo/MRDLA/)\n"
   ]
  },
  {
   "cell_type": "code",
   "execution_count": 5,
   "metadata": {},
   "outputs": [],
   "source": [
    "# Type A\n",
    "tdwt_layer = dwtls.MultiStageLWT([\n",
    "    dict(predict_ksize=3, update_ksize=3, \n",
    "         requires_grad={\"predict\": True, \"update\": True}, \n",
    "         initial_values={\"predict\": [0,1,0], \"update\": [0,0.5,0]})\n",
    "])"
   ]
  },
  {
   "cell_type": "code",
   "execution_count": 7,
   "metadata": {},
   "outputs": [],
   "source": [
    "# Type B\n",
    "tdwt_layer = dwtls.MultiStageLWT([\n",
    "    dict(predict_ksize=1, update_ksize=1, \n",
    "         requires_grad={\"predict\": False, \"update\": False}, \n",
    "         initial_values={\"predict\": [1], \"update\": [0.5]}),\n",
    "    dict(predict_ksize=3, update_ksize=3, \n",
    "         requires_grad={\"predict\": True, \"update\": True}, \n",
    "         initial_values={\"predict\": [0,0,0], \"update\": [0,0,0]})\n",
    "])"
   ]
  },
  {
   "cell_type": "code",
   "execution_count": 8,
   "metadata": {},
   "outputs": [],
   "source": [
    "# Type C\n",
    "tdwt_layer = dwtls.MultiStageLWT([\n",
    "    dict(predict_ksize=3, update_ksize=3, \n",
    "         requires_grad={\"predict\": True, \"update\": True}, \n",
    "         initial_values={\"predict\": [0,1,0], \"update\": [0,0.5,0]}),\n",
    "    dict(predict_ksize=3, update_ksize=3, \n",
    "         requires_grad={\"predict\": True, \"update\": True}, \n",
    "         initial_values={\"predict\": [0,0,0], \"update\": [0,0,0]})\n",
    "])"
   ]
  },
  {
   "cell_type": "markdown",
   "metadata": {},
   "source": [
    "## WN-TDWT layer\n",
    "The TDWT layer can be incorporated into many types of DNNs, but such straightforward extension does not guarantee that it has anti-aliasing filters, while it has the perfect reconstruction property owing to the lifting scheme.\n",
    "\n",
    "The WN-TDWT layer is developed to overcome this problem. It has both properties owing to adequate normalization of the prediction and update filter coefficients."
   ]
  },
  {
   "cell_type": "code",
   "execution_count": 9,
   "metadata": {},
   "outputs": [],
   "source": [
    "# Type A\n",
    "tdwt_layer = dwtls.WeightNormalizedMultiStageLWT([\n",
    "    dict(predict_ksize=3, update_ksize=3, \n",
    "         requires_grad={\"predict\": True, \"update\": True}, \n",
    "         initial_values={\"predict\": [0,1,0], \"update\": [0,0.5,0]})\n",
    "])"
   ]
  },
  {
   "cell_type": "markdown",
   "metadata": {},
   "source": [
    "The WN-TDWT layer can be used in the same way as the TDWT layer."
   ]
  }
 ],
 "metadata": {
  "kernelspec": {
   "display_name": "Python 3",
   "language": "python",
   "name": "python3"
  },
  "language_info": {
   "codemirror_mode": {
    "name": "ipython",
    "version": 3
   },
   "file_extension": ".py",
   "mimetype": "text/x-python",
   "name": "python",
   "nbconvert_exporter": "python",
   "pygments_lexer": "ipython3",
   "version": "3.8.0"
  }
 },
 "nbformat": 4,
 "nbformat_minor": 4
}
